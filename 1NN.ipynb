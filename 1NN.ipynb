{
 "cells": [
  {
   "cell_type": "code",
   "execution_count": 22,
   "id": "a349a402",
   "metadata": {},
   "outputs": [],
   "source": [
    "import numpy as np\n",
    "from sklearn import ensemble, datasets, metrics\n",
    "from sklearn.model_selection import train_test_split"
   ]
  },
  {
   "cell_type": "code",
   "execution_count": 4,
   "id": "f697d211",
   "metadata": {},
   "outputs": [],
   "source": [
    "digits = datasets.load_digits()\n",
    "X = digits.data\n",
    "y = digits.target\n",
    "\n",
    "TRAIN_SIZE = 0.75\n",
    "\n",
    "X_train, X_test, y_train, y_test = train_test_split(X, y, train_size=TRAIN_SIZE, shuffle=False)"
   ]
  },
  {
   "cell_type": "code",
   "execution_count": 5,
   "id": "573c3c7f",
   "metadata": {},
   "outputs": [
    {
     "data": {
      "text/plain": [
       "(1347, 64)"
      ]
     },
     "execution_count": 5,
     "metadata": {},
     "output_type": "execute_result"
    }
   ],
   "source": [
    "X_train.shape"
   ]
  },
  {
   "cell_type": "code",
   "execution_count": 6,
   "id": "2fad8f94",
   "metadata": {},
   "outputs": [],
   "source": [
    "from numpy.linalg import norm"
   ]
  },
  {
   "cell_type": "code",
   "execution_count": 13,
   "id": "5f09f650",
   "metadata": {},
   "outputs": [],
   "source": [
    "def the_nearest_neighbour(x_new):\n",
    "    min_dist = norm(X_train[0, :] - x_new)\n",
    "    answer = y_train[0]\n",
    "    for index, x in enumerate(X_train):\n",
    "        dist = norm(x - x_new)\n",
    "        if min_dist > dist:\n",
    "            min_dist = dist\n",
    "            answer = y_train[index]\n",
    "    \n",
    "    return answer        "
   ]
  },
  {
   "cell_type": "code",
   "execution_count": 14,
   "id": "17df0ebb",
   "metadata": {},
   "outputs": [],
   "source": [
    "def predict_1NN(X):\n",
    "    return np.array([the_nearest_neighbour(x) for x in X])\n",
    "        "
   ]
  },
  {
   "cell_type": "code",
   "execution_count": 16,
   "id": "00a37dfb",
   "metadata": {},
   "outputs": [],
   "source": [
    "answer = predict_1NN(X_test)\n"
   ]
  },
  {
   "cell_type": "code",
   "execution_count": 21,
   "id": "b5022a5c",
   "metadata": {},
   "outputs": [
    {
     "name": "stdout",
     "output_type": "stream",
     "text": [
      "17\n"
     ]
    }
   ],
   "source": [
    "error = 0\n",
    "for (a, y) in zip(answer, y_test):\n",
    "    if a != y:\n",
    "        error += 1\n",
    "print(error)\n",
    "answer_1 = error/y_test.shape[0] \n",
    "with open('NN_1.txt', 'w') as file:\n",
    "    file.write(str(answer_1))"
   ]
  },
  {
   "cell_type": "code",
   "execution_count": 24,
   "id": "2c81f8f8",
   "metadata": {},
   "outputs": [],
   "source": [
    "classifier = ensemble.RandomForestClassifier(n_estimators = 1000)\n",
    "classifier.fit(X_train, y_train)\n",
    "accuracy = metrics.accuracy_score(y_test, classifier.predict(X_test))\n",
    "error = 1 - accuracy\n",
    "answer_2 = error\n",
    "with open('NN_2.txt', 'w') as file:\n",
    "    file.write(str(answer_2))"
   ]
  },
  {
   "cell_type": "code",
   "execution_count": null,
   "id": "fee293f7",
   "metadata": {},
   "outputs": [],
   "source": []
  },
  {
   "cell_type": "code",
   "execution_count": null,
   "id": "41440e8a",
   "metadata": {},
   "outputs": [],
   "source": []
  }
 ],
 "metadata": {
  "kernelspec": {
   "display_name": "Python 3.9.5 64-bit",
   "language": "python",
   "name": "python395jvsc74a57bd0e0c39c2aa61344fb27ff6fb4f3a259e590cdda2eaea03f0e509c852643cc86c0"
  },
  "language_info": {
   "codemirror_mode": {
    "name": "ipython",
    "version": 3
   },
   "file_extension": ".py",
   "mimetype": "text/x-python",
   "name": "python",
   "nbconvert_exporter": "python",
   "pygments_lexer": "ipython3",
   "version": "3.9.5"
  }
 },
 "nbformat": 4,
 "nbformat_minor": 5
}
