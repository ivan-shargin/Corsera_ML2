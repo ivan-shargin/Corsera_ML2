{
 "cells": [
  {
   "cell_type": "code",
   "execution_count": 1,
   "id": "4a9573d8",
   "metadata": {},
   "outputs": [],
   "source": [
    "from sklearn import datasets, ensemble, metrics, linear_model\n",
    "import numpy as np"
   ]
  },
  {
   "cell_type": "code",
   "execution_count": 11,
   "id": "7196a0d8",
   "metadata": {},
   "outputs": [],
   "source": [
    "digits = datasets.load_digits()\n",
    "breast_cancer = datasets.load_breast_cancer()"
   ]
  },
  {
   "cell_type": "code",
   "execution_count": 15,
   "id": "c8bcfb3c",
   "metadata": {},
   "outputs": [
    {
     "name": "stdout",
     "output_type": "stream",
     "text": [
      "[[ 0.  0.  5. ...  0.  0.  0.]\n",
      " [ 0.  0.  0. ... 10.  0.  0.]\n",
      " [ 0.  0.  0. ... 16.  9.  0.]\n",
      " ...\n",
      " [ 0.  0.  1. ...  6.  0.  0.]\n",
      " [ 0.  0.  2. ... 12.  0.  0.]\n",
      " [ 0.  0. 10. ... 12.  1.  0.]]\n",
      "[0 1 2 ... 8 9 8]\n"
     ]
    }
   ],
   "source": [
    "X_d = digits.data\n",
    "y_d = digits.target\n",
    "print(X_d)\n",
    "print(y_d)"
   ]
  },
  {
   "cell_type": "code",
   "execution_count": 18,
   "id": "4de05023",
   "metadata": {},
   "outputs": [
    {
     "name": "stdout",
     "output_type": "stream",
     "text": [
      "[[1.799e+01 1.038e+01 1.228e+02 1.001e+03 1.184e-01 2.776e-01 3.001e-01\n",
      "  1.471e-01 2.419e-01 7.871e-02 1.095e+00 9.053e-01 8.589e+00 1.534e+02\n",
      "  6.399e-03 4.904e-02 5.373e-02 1.587e-02 3.003e-02 6.193e-03 2.538e+01\n",
      "  1.733e+01 1.846e+02 2.019e+03 1.622e-01 6.656e-01 7.119e-01 2.654e-01\n",
      "  4.601e-01 1.189e-01]\n",
      " [2.057e+01 1.777e+01 1.329e+02 1.326e+03 8.474e-02 7.864e-02 8.690e-02\n",
      "  7.017e-02 1.812e-01 5.667e-02 5.435e-01 7.339e-01 3.398e+00 7.408e+01\n",
      "  5.225e-03 1.308e-02 1.860e-02 1.340e-02 1.389e-02 3.532e-03 2.499e+01\n",
      "  2.341e+01 1.588e+02 1.956e+03 1.238e-01 1.866e-01 2.416e-01 1.860e-01\n",
      "  2.750e-01 8.902e-02]]\n",
      "[0 0 0 0 0 0 0 0 0 0 0 0 0 0 0 0 0 0 0 1 1 1 0 0 0 0 0 0 0 0 0 0 0 0 0 0 0\n",
      " 1 0 0 0 0 0 0 0 0 1 0 1 1]\n"
     ]
    }
   ],
   "source": [
    "X_c = breast_cancer.data\n",
    "y_c = breast_cancer.target\n",
    "print(X_c[:2, :])\n",
    "print(y_c[:50])"
   ]
  },
  {
   "cell_type": "code",
   "execution_count": 20,
   "id": "84ed0b74",
   "metadata": {},
   "outputs": [],
   "source": [
    "from sklearn.model_selection import cross_val_score\n",
    "from sklearn.naive_bayes import BernoulliNB, MultinomialNB, GaussianNB"
   ]
  },
  {
   "cell_type": "code",
   "execution_count": 24,
   "id": "df2faee9",
   "metadata": {},
   "outputs": [
    {
     "data": {
      "text/plain": [
       "0.8241736304549674"
      ]
     },
     "execution_count": 24,
     "metadata": {},
     "output_type": "execute_result"
    }
   ],
   "source": [
    "estimator = BernoulliNB()\n",
    "result = cross_val_score(estimator, X_d, y=y_d).mean()\n",
    "result"
   ]
  },
  {
   "cell_type": "code",
   "execution_count": 33,
   "id": "9ca365af",
   "metadata": {},
   "outputs": [],
   "source": [
    "estimator = MultinomialNB()\n",
    "result = cross_val_score(estimator, X_d, y=y_d).mean()\n",
    "result\n",
    "with open('bayes_2.txt', 'w') as file:\n",
    "    file.write(str(result))"
   ]
  },
  {
   "cell_type": "code",
   "execution_count": 25,
   "id": "92b71d94",
   "metadata": {},
   "outputs": [
    {
     "data": {
      "text/plain": [
       "0.8069281956050759"
      ]
     },
     "execution_count": 25,
     "metadata": {},
     "output_type": "execute_result"
    }
   ],
   "source": [
    "estimator = GaussianNB()\n",
    "result = cross_val_score(estimator, X_d, y=y_d).mean()\n",
    "result"
   ]
  },
  {
   "cell_type": "code",
   "execution_count": 28,
   "id": "79daac18",
   "metadata": {},
   "outputs": [
    {
     "data": {
      "text/plain": [
       "0.6274181027790716"
      ]
     },
     "execution_count": 28,
     "metadata": {},
     "output_type": "execute_result"
    }
   ],
   "source": [
    "estimator = BernoulliNB()\n",
    "result = cross_val_score(estimator, X_c, y=y_c).mean()\n",
    "result"
   ]
  },
  {
   "cell_type": "code",
   "execution_count": 31,
   "id": "54d02cd6",
   "metadata": {},
   "outputs": [
    {
     "data": {
      "text/plain": [
       "0.8963204471355379"
      ]
     },
     "execution_count": 31,
     "metadata": {},
     "output_type": "execute_result"
    }
   ],
   "source": [
    "estimator = MultinomialNB()\n",
    "result = cross_val_score(estimator, X_c, y=y_c).mean()\n",
    "result\n"
   ]
  },
  {
   "cell_type": "code",
   "execution_count": 32,
   "id": "17006fc9",
   "metadata": {},
   "outputs": [],
   "source": [
    "estimator = GaussianNB()\n",
    "result = cross_val_score(estimator, X_c, y=y_c).mean()\n",
    "result\n",
    "with open('bayes_1.txt', 'w') as file:\n",
    "    file.write(str(result))"
   ]
  },
  {
   "cell_type": "code",
   "execution_count": null,
   "id": "206616e4",
   "metadata": {},
   "outputs": [],
   "source": []
  }
 ],
 "metadata": {
  "kernelspec": {
   "display_name": "Python 3.9.5 64-bit",
   "language": "python",
   "name": "python395jvsc74a57bd0e0c39c2aa61344fb27ff6fb4f3a259e590cdda2eaea03f0e509c852643cc86c0"
  },
  "language_info": {
   "codemirror_mode": {
    "name": "ipython",
    "version": 3
   },
   "file_extension": ".py",
   "mimetype": "text/x-python",
   "name": "python",
   "nbconvert_exporter": "python",
   "pygments_lexer": "ipython3",
   "version": "3.9.5"
  }
 },
 "nbformat": 4,
 "nbformat_minor": 5
}
