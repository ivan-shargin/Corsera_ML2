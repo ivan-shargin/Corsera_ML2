{
 "cells": [
  {
   "cell_type": "code",
   "execution_count": 28,
   "id": "cd766a62",
   "metadata": {},
   "outputs": [],
   "source": [
    "from sklearn import datasets, tree, ensemble\n",
    "import numpy as np\n",
    "import matplotlib.pyplot as plt\n",
    "from sklearn.model_selection import cross_val_score "
   ]
  },
  {
   "cell_type": "code",
   "execution_count": 13,
   "id": "48e8c020",
   "metadata": {},
   "outputs": [
    {
     "data": {
      "text/plain": [
       "array([[ 0.,  0.,  5., ...,  0.,  0.,  0.],\n",
       "       [ 0.,  0.,  0., ..., 10.,  0.,  0.],\n",
       "       [ 0.,  0.,  0., ..., 16.,  9.,  0.],\n",
       "       ...,\n",
       "       [ 0.,  0.,  1., ...,  6.,  0.,  0.],\n",
       "       [ 0.,  0.,  2., ..., 12.,  0.,  0.],\n",
       "       [ 0.,  0., 10., ..., 12.,  1.,  0.]])"
      ]
     },
     "execution_count": 13,
     "metadata": {},
     "output_type": "execute_result"
    }
   ],
   "source": [
    "digits = datasets.load_digits()\n",
    "data = digits.data\n",
    "target = digits.target\n",
    "data"
   ]
  },
  {
   "cell_type": "code",
   "execution_count": 17,
   "id": "aab0fb68",
   "metadata": {},
   "outputs": [
    {
     "data": {
      "text/plain": [
       "array([0, 1, 2, ..., 8, 9, 8])"
      ]
     },
     "execution_count": 17,
     "metadata": {},
     "output_type": "execute_result"
    }
   ],
   "source": [
    "target"
   ]
  },
  {
   "cell_type": "code",
   "execution_count": 20,
   "id": "0491f059",
   "metadata": {},
   "outputs": [],
   "source": [
    "#cross_val_score"
   ]
  },
  {
   "cell_type": "code",
   "execution_count": 64,
   "id": "9f171819",
   "metadata": {},
   "outputs": [],
   "source": [
    "tree_1 = tree.DecisionTreeClassifier(random_state=1, max_features=max_features)\n",
    "# answer1 = cross_val_score(tree_1, data, target, cv=10).mean()\n",
    "# with open('week4_answer1.txt', 'w') as file:\n",
    "#     file.write(str(answer1))"
   ]
  },
  {
   "cell_type": "code",
   "execution_count": 30,
   "id": "54aa4da0",
   "metadata": {},
   "outputs": [],
   "source": [
    "bagging_classifier = ensemble.BaggingClassifier(tree_1, n_estimators=100)"
   ]
  },
  {
   "cell_type": "code",
   "execution_count": 31,
   "id": "049a8319",
   "metadata": {},
   "outputs": [],
   "source": [
    "answer2 = cross_val_score(bagging_classifier, data, target, cv=10)\n"
   ]
  },
  {
   "cell_type": "code",
   "execution_count": 33,
   "id": "6a9f406d",
   "metadata": {},
   "outputs": [],
   "source": [
    "with open('week4_answer2.txt', 'w') as file:\n",
    "    file.write(str(answer2.mean()))"
   ]
  },
  {
   "cell_type": "code",
   "execution_count": 61,
   "id": "7b07b099",
   "metadata": {},
   "outputs": [
    {
     "data": {
      "text/plain": [
       "0.125"
      ]
     },
     "execution_count": 61,
     "metadata": {},
     "output_type": "execute_result"
    }
   ],
   "source": [
    "N = data.shape[1]\n",
    "max_features= np.round(np.sqrt(N))\n",
    "max_features = max_features / N\n",
    "max_features"
   ]
  },
  {
   "cell_type": "code",
   "execution_count": 66,
   "id": "d0c8568d",
   "metadata": {},
   "outputs": [],
   "source": [
    "bagging_classifier_2 = ensemble.BaggingClassifier(tree_1, n_estimators=100)"
   ]
  },
  {
   "cell_type": "code",
   "execution_count": 67,
   "id": "5303f96f",
   "metadata": {},
   "outputs": [],
   "source": [
    "answer4 = cross_val_score(bagging_classifier_2, data, target, cv=10).mean()\n",
    "with open('week4_answer4.txt', 'w') as file:\n",
    "    file.write(str(answer4))"
   ]
  },
  {
   "cell_type": "code",
   "execution_count": 51,
   "id": "4be62172",
   "metadata": {},
   "outputs": [],
   "source": []
  }
 ],
 "metadata": {
  "kernelspec": {
   "display_name": "Python 3.9.5 64-bit",
   "language": "python",
   "name": "python395jvsc74a57bd0e0c39c2aa61344fb27ff6fb4f3a259e590cdda2eaea03f0e509c852643cc86c0"
  },
  "language_info": {
   "codemirror_mode": {
    "name": "ipython",
    "version": 3
   },
   "file_extension": ".py",
   "mimetype": "text/x-python",
   "name": "python",
   "nbconvert_exporter": "python",
   "pygments_lexer": "ipython3",
   "version": "3.9.5"
  }
 },
 "nbformat": 4,
 "nbformat_minor": 5
}
